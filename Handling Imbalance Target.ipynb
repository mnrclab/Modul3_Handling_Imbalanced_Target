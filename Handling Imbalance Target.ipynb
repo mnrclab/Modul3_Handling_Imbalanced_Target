{
 "cells": [
  {
   "cell_type": "markdown",
   "metadata": {},
   "source": [
    "# **Handling Imbalanced Dataset**"
   ]
  },
  {
   "cell_type": "markdown",
   "metadata": {},
   "source": [
    "In simple terms, in binary classifiers , ``Imbalance of data is dominance of one class`` over other of **target variable**.\n",
    "\n",
    "Class Imbalance occurs in datasets pertaining multiclass classification as well.\n",
    "\n",
    "Imbalance datasets are characterized by a rare class, which represents a small portion of the entire population (1 out of 1000 or 1 out of 10000 or even more). Class imbalance can be intrinsic to the problem, it is imbalanced by its own nature, or it can be determined by the limitation of data collection, caused by economic or privacy reasons.\n",
    "\n",
    "The minority class is scarce and its own characteristics and own patterns are scarce as well, but those information is extremely important for the trained model to discriminate the small samples from the crowd. \n",
    "\n",
    "<hr>\n",
    "\n",
    "In Machine Learning and Data Science we often come across a term called Imbalanced Data Distribution, generally happens when observations in one of the class are much higher or lower than the other classes. As Machine Learning algorithms tend to increase accuracy by reducing the error, they do not consider the class distribution. This problem is prevalent in examples such as Fraud Detection, Anomaly Detection, Facial recognition etc.\n",
    "\n",
    "Standard ML techniques such as Decision Tree and Logistic Regression have a bias towards the majority class, and they tend to ignore the minority class. They tend only to predict the majority class, hence, having major misclassification of the minority class in comparison with the majority class. In more technical words, if we have imbalanced data distribution in our dataset then our model becomes more prone to the case when minority class has negligible or very lesser recall.\n",
    "\n",
    "**Example**\n",
    "- User churn in telecom industry.\n",
    "- Detection of rare diseases.\n",
    "- Detecting Credit card Fradulant transactions.\n",
    "\n",
    "In above examples you can notice that number of data points of right class are very less as compared to other.\n",
    "\n",
    "<hr>"
   ]
  },
  {
   "cell_type": "markdown",
   "metadata": {},
   "source": [
    "### **Balanced Data**\n",
    "\n",
    "<img src = 'a_img.png'>\n",
    "\n",
    "### **Imbalanced Data**\n",
    "\n",
    "<img src = 'b_img.png'>\n",
    "\n",
    "Suppose to train a machine learning model to discern non-spam emails from spam emails. The entire dataset is composed of 44 emails, including 40 non-spam emails and 4 spam emails. The model used is a standard algorithm and doesn’t take into account the class distribution. The result achieved is the following:\n",
    "\n",
    "<img src = 'f_img.png'>"
   ]
  },
  {
   "cell_type": "code",
   "execution_count": 2,
   "metadata": {},
   "outputs": [
    {
     "data": {
      "text/plain": [
       "90.9090909090909"
      ]
     },
     "execution_count": 2,
     "metadata": {},
     "output_type": "execute_result"
    }
   ],
   "source": [
    "TP = 0\n",
    "TN = 40\n",
    "FP = 0\n",
    "FN = 4\n",
    "\n",
    "AKURASI = (TP + TN) / 44\n",
    "AKURASI*100"
   ]
  },
  {
   "cell_type": "code",
   "execution_count": 7,
   "metadata": {},
   "outputs": [
    {
     "data": {
      "text/plain": [
       "90.9090909090909"
      ]
     },
     "execution_count": 7,
     "metadata": {},
     "output_type": "execute_result"
    }
   ],
   "source": [
    "# PRESISI_POS = TP / (TP + FP) = 0\n",
    "PRESISI_NEG = TN / (TN + FN)\n",
    "PRESISI_NEG*100"
   ]
  },
  {
   "cell_type": "code",
   "execution_count": 8,
   "metadata": {},
   "outputs": [
    {
     "data": {
      "text/plain": [
       "1.0"
      ]
     },
     "execution_count": 8,
     "metadata": {},
     "output_type": "execute_result"
    }
   ],
   "source": [
    "# RECALL_POS = TP / (TP + FN) = 0\n",
    "RECALL_NEG = TN / (TN + FP)\n",
    "RECALL_NEG"
   ]
  },
  {
   "cell_type": "markdown",
   "metadata": {},
   "source": [
    "The model obtains 90.9% of accuracy. Great result! But is it a good model? Obviously not! The model acts like a Zero Rule model: only the majority class is found, while the rare class, that is more interesting, is ignored.\n",
    "\n",
    "Accuracy evaluates all the classes as equally important and that’s why it can’t be used as measure of goodness for models working on imbalanced class dataset.\n",
    "Other metrics are necessary, such as:\n",
    "\n",
    "-    Recall\n",
    "-    Precision\n",
    "-    F1 Measure\n",
    "-    ROC curve and AUC\n",
    "\n",
    "Which one is better? There isn’t a better metric. It depends on many factors, such as the goal, the context, and the cost function: is it better to classify correctly one more unit of the rare class but, at the same time, increasing False Positive errors (classify no-spam email as spam email), or misclassify some units of the rare class, but decreasing False Positive errors?\n",
    "\n",
    "<hr>"
   ]
  },
  {
   "cell_type": "markdown",
   "metadata": {},
   "source": [
    "# **``Ways to Handle Imbalance Target``**\n",
    "\n",
    "### **1. Change Another Algorithm & Model ML**\n",
    "### **2. Change Metrics**\n",
    "### **3. Re-sampling techniques**\n",
    "📌 **Natural Resampling**: the main goal is to collect more data of the minority class. It’s simple to obtain, but it’s not always possible. In dataset where the imbalance problem is part of its own nature, it’s hard to collect as data as the majority class.\n",
    "\n",
    "📌 **Artificial Resampling**: it can be accomplished by:\n",
    "\n",
    "-    **Undersampling**, by reducing data of the majority class\n",
    "-    **Oversampling**, by replicating the minority class\n",
    "-    **SMOTE** (Synthetic Minority Oversampling TEchnique). It is a synthetic minority oversampling technique, which makes synthetic data points by finding the nearest neighbours to each minority sample.\n",
    "- **NearMiss Algorithm** is an under-sampling technique. It aims to balance class distribution by randomly eliminating majority class examples. \n",
    "\n",
    "\n",
    "In re-sampling of data either we reduce the proportion of dominant class which is under-sampling or we increase proportion of minority class which is called as oversampling. However most successful approaches uses both oversampling and under-sampling together."
   ]
  },
  {
   "cell_type": "markdown",
   "metadata": {},
   "source": [
    "<hr>\n",
    "\n",
    "# **``Under-sampling``**\n",
    "Undersampling can cut out some important and valuable information from the dataset. To overcome the loss of information caused by undersampling, a cluster-based undersampling approach can applied. It uses the k-means alghoritm: the clusters created have the smaller variance within and the most between-class variance, thus the records inside the cluster share the same characteristics. The majority class is undersampled by taking only the centroids of the clusters created.\n",
    "\n",
    "<img src = 'c_img.png'>\n",
    "\n",
    "### **a) Random Under-sampling**\n",
    "\n",
    "Random under-sampling is very simple and intuitive under- sampling technique . Method works by ``randomly choosing`` nbjmi the samples from dominant class.\n",
    "\n",
    "There are two major drawbacks of these technique:\n",
    "\n",
    "1. Major drawback of this technique is that we eliminate samples randomly, which may lead to loss of potential information .\n",
    "\n",
    "2. The purpose of machine learning is for the classifier to estimate the probability distribution of the target population. Since that distribution is unknown we try to estimate the population distribution using a sample distribution. Statistics tells us that as long as the sample is drawn randomly, the sample distribution can be used to estimate the population distribution from where it was drawn.\n",
    "\n",
    "### **b) Cluster Centroid Under-sampling**\n",
    "Clusters of majority class and ``replace that cluster with centroid of that cluster``. So we undersample majority class by forming clusters and replacing it with cluster centroids.\n",
    "\n",
    "For example:\n",
    "- Majority class : 100 samples\n",
    "- Minority class : 10 samples\n",
    "\n",
    "Here , in this case we can form 10 clusters of majority class and replace 100 points with 10 data points i.e by cluster centroid.\n",
    "\n",
    "### **c) Under-sampling using Tomek links**\n",
    "\n",
    "Tomek link pair has two opposite class data points who are their own nearest neighbors. Main idea is to separate minority and majority class.\n",
    "\n",
    "Suppose,\n",
    "- d(A,B) : distance between two data points A & B\n",
    "- Then, a(A,B) is Tomek link if and only if\n",
    "- There is no such point ‘C’ , such that, d(A,C) < d(A<B) or d(B,C) < d(A,B)\n",
    "\n",
    "If pair of samples form tomek link then either one of the sample is noise or both are placed at border.\n",
    "\n",
    "As under-sampling technique we eliminate majority class point, while as part of data mining we eliminate both points.\n",
    "\n",
    "### **d) NearMiss Algorithm**\n",
    "\n",
    "NearMiss is an under-sampling technique. It aims to balance class distribution by randomly eliminating majority class examples. When instances of two different classes are very close to each other, we remove the instances of the majority class to increase the spaces between the two classes. This helps in the classification process.\n",
    "\n",
    "To prevent problem of information loss in most under-sampling techniques, ``near-neighbor methods`` are widely used.\n",
    "\n",
    "The basic intuition about the working of near-neighbor methods is as follows:\n",
    "- **Step 1**: The method first finds the distances between all instances of the majority class and the instances of the minority class. Here, majority class is to be under-sampled.\n",
    "\n",
    "- **Step 2**: Then, n instances of the majority class that have the smallest distances to those in the minority class are selected.\n",
    "\n",
    "- **Step 3**: If there are k instances in the minority class, the nearest method will result in k*n instances of the majority class.\n",
    "\n",
    "For finding n closest instances in the majority class, there are several variations of applying NearMiss Algorithm :\n",
    "\n",
    "-    NearMiss – Version 1 : It selects samples of the majority class for which average distances to the k closest instances of the minority class is smallest.\n",
    "-    NearMiss – Version 2 : It selects samples of the majority class for which average distances to the k farthest instances of the minority class is smallest.\n",
    "-    NearMiss – Version 3 : It works in 2 steps. Firstly, for each minority class instance, their M nearest-neighbors will be stored. Then finally, the majority class instances are selected for which the average distance to the N nearest-neighbors is the largest."
   ]
  },
  {
   "cell_type": "markdown",
   "metadata": {},
   "source": [
    "<hr>\n",
    "\n",
    "# **``Over-sampling``**\n",
    "Oversampling, on the other hand, can lead to overfitting. Although, it’s been proved that adjusting the class distribution to the optimal one can improve drastically the performance, but find the best distribution is really difficult. Some dataset are more reactable to fully balanced distribution class, other instead gets greater performance with less skewed dataset. The researcher should find the better solution by trial and error and some heuristics\n",
    "\n",
    "<img src = 'd_img.png'>\n",
    "\n",
    "### **a) Random Oversampling**\n",
    "\n",
    "In random oversampling technique we replace the samples with existing minority samples. In simple terms we can say that we just do multiplication of existing Minority class. Major drawback of this technique us that, this technique is highly prone to over fitting.\n",
    "\n",
    "### **b) SMOTE (Synthetic Minority Oversampling Technique)**\n",
    "\n",
    "In this technique we calculate difference between sample under consideration and its nearest neighbors. Once the distance is calculated we multiply that with the number between 0 and 1. We add it to sample under consideration. Which gives us new sample point for minority class. Depending upon the amount of oversampling required, neighbours from k-NN are randomly chosen.\n",
    "\n",
    "<img src = 'e_img.png'>\n",
    "\n",
    "SMOTE (synthetic minority oversampling technique) is one of the most commonly used oversampling methods to solve the imbalance problem.\n",
    "It aims to balance class distribution by randomly increasing minority class examples by replicating them.\n",
    "\n",
    "SMOTE synthesises new minority instances between existing minority instances. It generates the virtual training records by linear interpolation for the minority class. These synthetic training records are generated by randomly selecting one or more of the k-nearest neighbors for each example in the minority class. After the oversampling process, the data is reconstructed and several classification models can be applied for the processed data."
   ]
  },
  {
   "cell_type": "markdown",
   "metadata": {},
   "source": [
    "<hr>\n",
    "\n",
    "# **``Credit Card Dataset``**\n",
    "\n",
    "**Context**\n",
    "\n",
    "It is important that credit card companies are able to recognize fraudulent credit card transactions so that customers are not charged for items that they did not purchase.\n",
    "\n",
    "**Content**\n",
    "\n",
    "The datasets contains transactions made by credit cards in September 2013 by european cardholders.\n",
    "This dataset presents transactions that occurred in two days, where we have 492 frauds out of 284,807 transactions. ``The dataset is highly unbalanced``, the ``positive class (1)`` (frauds) account for 0.172% of all transactions.\n",
    "\n",
    "It contains only numerical input variables which are the result of a PCA transformation. Unfortunately, due to confidentiality issues, we cannot provide the original features and more background information about the data. Features V1, V2, … V28 are the principal components obtained with PCA, the only features which have not been transformed with PCA are 'Time' and 'Amount'. Feature 'Time' contains the seconds elapsed between each transaction and the first transaction in the dataset. The feature 'Amount' is the transaction Amount, this feature can be used for example-dependant cost-senstive learning. Feature 'Class' is the response variable and it takes value 1 in case of fraud and 0 otherwise. "
   ]
  },
  {
   "cell_type": "code",
   "execution_count": 9,
   "metadata": {},
   "outputs": [],
   "source": [
    "# import library\n",
    "import pandas as pd\n",
    "import numpy as np\n",
    "import seaborn as sns\n",
    "import matplotlib.pyplot as plt\n",
    "\n",
    "from sklearn.model_selection import train_test_split\n",
    "from sklearn.linear_model import LogisticRegression\n",
    "from sklearn.preprocessing import RobustScaler\n",
    "\n",
    "from sklearn.metrics import classification_report, accuracy_score, confusion_matrix, recall_score, roc_auc_score, precision_score, f1_score\n",
    "\n",
    "# untuk undersampling & oversampling\n",
    "from imblearn.over_sampling import SMOTE\n",
    "from imblearn.under_sampling import NearMiss"
   ]
  },
  {
   "cell_type": "code",
   "execution_count": 10,
   "metadata": {},
   "outputs": [],
   "source": [
    "df = pd.read_csv('creditcard.csv')"
   ]
  },
  {
   "cell_type": "code",
   "execution_count": 12,
   "metadata": {},
   "outputs": [
    {
     "data": {
      "text/html": [
       "<div>\n",
       "<style scoped>\n",
       "    .dataframe tbody tr th:only-of-type {\n",
       "        vertical-align: middle;\n",
       "    }\n",
       "\n",
       "    .dataframe tbody tr th {\n",
       "        vertical-align: top;\n",
       "    }\n",
       "\n",
       "    .dataframe thead th {\n",
       "        text-align: right;\n",
       "    }\n",
       "</style>\n",
       "<table border=\"1\" class=\"dataframe\">\n",
       "  <thead>\n",
       "    <tr style=\"text-align: right;\">\n",
       "      <th></th>\n",
       "      <th>0</th>\n",
       "      <th>1</th>\n",
       "      <th>2</th>\n",
       "    </tr>\n",
       "  </thead>\n",
       "  <tbody>\n",
       "    <tr>\n",
       "      <th>Time</th>\n",
       "      <td>0.000000</td>\n",
       "      <td>0.000000</td>\n",
       "      <td>1.000000</td>\n",
       "    </tr>\n",
       "    <tr>\n",
       "      <th>V1</th>\n",
       "      <td>-1.359807</td>\n",
       "      <td>1.191857</td>\n",
       "      <td>-1.358354</td>\n",
       "    </tr>\n",
       "    <tr>\n",
       "      <th>V2</th>\n",
       "      <td>-0.072781</td>\n",
       "      <td>0.266151</td>\n",
       "      <td>-1.340163</td>\n",
       "    </tr>\n",
       "    <tr>\n",
       "      <th>V3</th>\n",
       "      <td>2.536347</td>\n",
       "      <td>0.166480</td>\n",
       "      <td>1.773209</td>\n",
       "    </tr>\n",
       "    <tr>\n",
       "      <th>V4</th>\n",
       "      <td>1.378155</td>\n",
       "      <td>0.448154</td>\n",
       "      <td>0.379780</td>\n",
       "    </tr>\n",
       "    <tr>\n",
       "      <th>V5</th>\n",
       "      <td>-0.338321</td>\n",
       "      <td>0.060018</td>\n",
       "      <td>-0.503198</td>\n",
       "    </tr>\n",
       "    <tr>\n",
       "      <th>V6</th>\n",
       "      <td>0.462388</td>\n",
       "      <td>-0.082361</td>\n",
       "      <td>1.800499</td>\n",
       "    </tr>\n",
       "    <tr>\n",
       "      <th>V7</th>\n",
       "      <td>0.239599</td>\n",
       "      <td>-0.078803</td>\n",
       "      <td>0.791461</td>\n",
       "    </tr>\n",
       "    <tr>\n",
       "      <th>V8</th>\n",
       "      <td>0.098698</td>\n",
       "      <td>0.085102</td>\n",
       "      <td>0.247676</td>\n",
       "    </tr>\n",
       "    <tr>\n",
       "      <th>V9</th>\n",
       "      <td>0.363787</td>\n",
       "      <td>-0.255425</td>\n",
       "      <td>-1.514654</td>\n",
       "    </tr>\n",
       "    <tr>\n",
       "      <th>V10</th>\n",
       "      <td>0.090794</td>\n",
       "      <td>-0.166974</td>\n",
       "      <td>0.207643</td>\n",
       "    </tr>\n",
       "    <tr>\n",
       "      <th>V11</th>\n",
       "      <td>-0.551600</td>\n",
       "      <td>1.612727</td>\n",
       "      <td>0.624501</td>\n",
       "    </tr>\n",
       "    <tr>\n",
       "      <th>V12</th>\n",
       "      <td>-0.617801</td>\n",
       "      <td>1.065235</td>\n",
       "      <td>0.066084</td>\n",
       "    </tr>\n",
       "    <tr>\n",
       "      <th>V13</th>\n",
       "      <td>-0.991390</td>\n",
       "      <td>0.489095</td>\n",
       "      <td>0.717293</td>\n",
       "    </tr>\n",
       "    <tr>\n",
       "      <th>V14</th>\n",
       "      <td>-0.311169</td>\n",
       "      <td>-0.143772</td>\n",
       "      <td>-0.165946</td>\n",
       "    </tr>\n",
       "    <tr>\n",
       "      <th>V15</th>\n",
       "      <td>1.468177</td>\n",
       "      <td>0.635558</td>\n",
       "      <td>2.345865</td>\n",
       "    </tr>\n",
       "    <tr>\n",
       "      <th>V16</th>\n",
       "      <td>-0.470401</td>\n",
       "      <td>0.463917</td>\n",
       "      <td>-2.890083</td>\n",
       "    </tr>\n",
       "    <tr>\n",
       "      <th>V17</th>\n",
       "      <td>0.207971</td>\n",
       "      <td>-0.114805</td>\n",
       "      <td>1.109969</td>\n",
       "    </tr>\n",
       "    <tr>\n",
       "      <th>V18</th>\n",
       "      <td>0.025791</td>\n",
       "      <td>-0.183361</td>\n",
       "      <td>-0.121359</td>\n",
       "    </tr>\n",
       "    <tr>\n",
       "      <th>V19</th>\n",
       "      <td>0.403993</td>\n",
       "      <td>-0.145783</td>\n",
       "      <td>-2.261857</td>\n",
       "    </tr>\n",
       "    <tr>\n",
       "      <th>V20</th>\n",
       "      <td>0.251412</td>\n",
       "      <td>-0.069083</td>\n",
       "      <td>0.524980</td>\n",
       "    </tr>\n",
       "    <tr>\n",
       "      <th>V21</th>\n",
       "      <td>-0.018307</td>\n",
       "      <td>-0.225775</td>\n",
       "      <td>0.247998</td>\n",
       "    </tr>\n",
       "    <tr>\n",
       "      <th>V22</th>\n",
       "      <td>0.277838</td>\n",
       "      <td>-0.638672</td>\n",
       "      <td>0.771679</td>\n",
       "    </tr>\n",
       "    <tr>\n",
       "      <th>V23</th>\n",
       "      <td>-0.110474</td>\n",
       "      <td>0.101288</td>\n",
       "      <td>0.909412</td>\n",
       "    </tr>\n",
       "    <tr>\n",
       "      <th>V24</th>\n",
       "      <td>0.066928</td>\n",
       "      <td>-0.339846</td>\n",
       "      <td>-0.689281</td>\n",
       "    </tr>\n",
       "    <tr>\n",
       "      <th>V25</th>\n",
       "      <td>0.128539</td>\n",
       "      <td>0.167170</td>\n",
       "      <td>-0.327642</td>\n",
       "    </tr>\n",
       "    <tr>\n",
       "      <th>V26</th>\n",
       "      <td>-0.189115</td>\n",
       "      <td>0.125895</td>\n",
       "      <td>-0.139097</td>\n",
       "    </tr>\n",
       "    <tr>\n",
       "      <th>V27</th>\n",
       "      <td>0.133558</td>\n",
       "      <td>-0.008983</td>\n",
       "      <td>-0.055353</td>\n",
       "    </tr>\n",
       "    <tr>\n",
       "      <th>V28</th>\n",
       "      <td>-0.021053</td>\n",
       "      <td>0.014724</td>\n",
       "      <td>-0.059752</td>\n",
       "    </tr>\n",
       "    <tr>\n",
       "      <th>Amount</th>\n",
       "      <td>149.620000</td>\n",
       "      <td>2.690000</td>\n",
       "      <td>378.660000</td>\n",
       "    </tr>\n",
       "    <tr>\n",
       "      <th>Class</th>\n",
       "      <td>0.000000</td>\n",
       "      <td>0.000000</td>\n",
       "      <td>0.000000</td>\n",
       "    </tr>\n",
       "  </tbody>\n",
       "</table>\n",
       "</div>"
      ],
      "text/plain": [
       "                 0         1           2\n",
       "Time      0.000000  0.000000    1.000000\n",
       "V1       -1.359807  1.191857   -1.358354\n",
       "V2       -0.072781  0.266151   -1.340163\n",
       "V3        2.536347  0.166480    1.773209\n",
       "V4        1.378155  0.448154    0.379780\n",
       "V5       -0.338321  0.060018   -0.503198\n",
       "V6        0.462388 -0.082361    1.800499\n",
       "V7        0.239599 -0.078803    0.791461\n",
       "V8        0.098698  0.085102    0.247676\n",
       "V9        0.363787 -0.255425   -1.514654\n",
       "V10       0.090794 -0.166974    0.207643\n",
       "V11      -0.551600  1.612727    0.624501\n",
       "V12      -0.617801  1.065235    0.066084\n",
       "V13      -0.991390  0.489095    0.717293\n",
       "V14      -0.311169 -0.143772   -0.165946\n",
       "V15       1.468177  0.635558    2.345865\n",
       "V16      -0.470401  0.463917   -2.890083\n",
       "V17       0.207971 -0.114805    1.109969\n",
       "V18       0.025791 -0.183361   -0.121359\n",
       "V19       0.403993 -0.145783   -2.261857\n",
       "V20       0.251412 -0.069083    0.524980\n",
       "V21      -0.018307 -0.225775    0.247998\n",
       "V22       0.277838 -0.638672    0.771679\n",
       "V23      -0.110474  0.101288    0.909412\n",
       "V24       0.066928 -0.339846   -0.689281\n",
       "V25       0.128539  0.167170   -0.327642\n",
       "V26      -0.189115  0.125895   -0.139097\n",
       "V27       0.133558 -0.008983   -0.055353\n",
       "V28      -0.021053  0.014724   -0.059752\n",
       "Amount  149.620000  2.690000  378.660000\n",
       "Class     0.000000  0.000000    0.000000"
      ]
     },
     "execution_count": 12,
     "metadata": {},
     "output_type": "execute_result"
    }
   ],
   "source": [
    "df.head(3).T"
   ]
  },
  {
   "cell_type": "code",
   "execution_count": 13,
   "metadata": {},
   "outputs": [
    {
     "name": "stdout",
     "output_type": "stream",
     "text": [
      "<class 'pandas.core.frame.DataFrame'>\n",
      "RangeIndex: 284807 entries, 0 to 284806\n",
      "Data columns (total 31 columns):\n",
      " #   Column  Non-Null Count   Dtype  \n",
      "---  ------  --------------   -----  \n",
      " 0   Time    284807 non-null  float64\n",
      " 1   V1      284807 non-null  float64\n",
      " 2   V2      284807 non-null  float64\n",
      " 3   V3      284807 non-null  float64\n",
      " 4   V4      284807 non-null  float64\n",
      " 5   V5      284807 non-null  float64\n",
      " 6   V6      284807 non-null  float64\n",
      " 7   V7      284807 non-null  float64\n",
      " 8   V8      284807 non-null  float64\n",
      " 9   V9      284807 non-null  float64\n",
      " 10  V10     284807 non-null  float64\n",
      " 11  V11     284807 non-null  float64\n",
      " 12  V12     284807 non-null  float64\n",
      " 13  V13     284807 non-null  float64\n",
      " 14  V14     284807 non-null  float64\n",
      " 15  V15     284807 non-null  float64\n",
      " 16  V16     284807 non-null  float64\n",
      " 17  V17     284807 non-null  float64\n",
      " 18  V18     284807 non-null  float64\n",
      " 19  V19     284807 non-null  float64\n",
      " 20  V20     284807 non-null  float64\n",
      " 21  V21     284807 non-null  float64\n",
      " 22  V22     284807 non-null  float64\n",
      " 23  V23     284807 non-null  float64\n",
      " 24  V24     284807 non-null  float64\n",
      " 25  V25     284807 non-null  float64\n",
      " 26  V26     284807 non-null  float64\n",
      " 27  V27     284807 non-null  float64\n",
      " 28  V28     284807 non-null  float64\n",
      " 29  Amount  284807 non-null  float64\n",
      " 30  Class   284807 non-null  int64  \n",
      "dtypes: float64(30), int64(1)\n",
      "memory usage: 67.4 MB\n"
     ]
    }
   ],
   "source": [
    "# check missing value\n",
    "df.info()"
   ]
  },
  {
   "cell_type": "code",
   "execution_count": 14,
   "metadata": {},
   "outputs": [
    {
     "data": {
      "text/plain": [
       "<matplotlib.axes._subplots.AxesSubplot at 0x12524c70>"
      ]
     },
     "execution_count": 14,
     "metadata": {},
     "output_type": "execute_result"
    },
    {
     "data": {
      "image/png": "[encoded data removed]",
      "text/plain": [
       "<Figure size 432x288 with 1 Axes>"
      ]
     },
     "metadata": {
      "needs_background": "light"
     },
     "output_type": "display_data"
    }
   ],
   "source": [
    "sns.boxplot(df['Amount'])"
   ]
  },
  {
   "cell_type": "code",
   "execution_count": 15,
   "metadata": {},
   "outputs": [],
   "source": [
    "# scalling 'Amount' Feature\n",
    "df['Amount_scl'] = RobustScaler().fit_transform(np.array(df['Amount']).reshape(-1, 1))"
   ]
  },
  {
   "cell_type": "code",
   "execution_count": 16,
   "metadata": {},
   "outputs": [],
   "source": [
    "# hapus 'Time' dan 'Amount' (tidak relevan)\n",
    "df = df.drop(['Time', 'Amount'], axis = 1)"
   ]
  },
  {
   "cell_type": "markdown",
   "metadata": {},
   "source": [
    "### **Check Target Proportion**"
   ]
  },
  {
   "cell_type": "code",
   "execution_count": 18,
   "metadata": {},
   "outputs": [
    {
     "data": {
      "text/plain": [
       "0    284315\n",
       "1       492\n",
       "Name: Class, dtype: int64"
      ]
     },
     "execution_count": 18,
     "metadata": {},
     "output_type": "execute_result"
    }
   ],
   "source": [
    "df['Class'].value_counts()"
   ]
  },
  {
   "cell_type": "code",
   "execution_count": 21,
   "metadata": {},
   "outputs": [
    {
     "data": {
      "text/html": [
       "<div>\n",
       "<style scoped>\n",
       "    .dataframe tbody tr th:only-of-type {\n",
       "        vertical-align: middle;\n",
       "    }\n",
       "\n",
       "    .dataframe tbody tr th {\n",
       "        vertical-align: top;\n",
       "    }\n",
       "\n",
       "    .dataframe thead th {\n",
       "        text-align: right;\n",
       "    }\n",
       "</style>\n",
       "<table border=\"1\" class=\"dataframe\">\n",
       "  <thead>\n",
       "    <tr style=\"text-align: right;\">\n",
       "      <th></th>\n",
       "      <th>Data (%)</th>\n",
       "    </tr>\n",
       "  </thead>\n",
       "  <tbody>\n",
       "    <tr>\n",
       "      <th>Non Fraud</th>\n",
       "      <td>99.83</td>\n",
       "    </tr>\n",
       "    <tr>\n",
       "      <th>Fraud</th>\n",
       "      <td>0.17</td>\n",
       "    </tr>\n",
       "  </tbody>\n",
       "</table>\n",
       "</div>"
      ],
      "text/plain": [
       "           Data (%)\n",
       "Non Fraud     99.83\n",
       "Fraud          0.17"
      ]
     },
     "execution_count": 21,
     "metadata": {},
     "output_type": "execute_result"
    }
   ],
   "source": [
    "x = [round(i/len(df)*100, 2) for i in df['Class'].value_counts()]\n",
    "pd.DataFrame(data=x, index=['Non Fraud', 'Fraud'], columns=['Data (%)'])"
   ]
  },
  {
   "cell_type": "markdown",
   "metadata": {},
   "source": [
    "**Note**:\n",
    "- Tidak ada feature selection\n",
    "- Tidak handling outlier -> diabaikan"
   ]
  },
  {
   "cell_type": "markdown",
   "metadata": {},
   "source": [
    "### __Splitting Dataset__"
   ]
  },
  {
   "cell_type": "code",
   "execution_count": 22,
   "metadata": {},
   "outputs": [],
   "source": [
    "x = df.drop(['Class'], axis=1)\n",
    "y = df['Class']"
   ]
  },
  {
   "cell_type": "code",
   "execution_count": 23,
   "metadata": {},
   "outputs": [],
   "source": [
    "x_train, x_test, y_train, y_test = train_test_split(x, y, test_size = 0.2, random_state = 0)"
   ]
  },
  {
   "cell_type": "code",
   "execution_count": 25,
   "metadata": {},
   "outputs": [
    {
     "name": "stdout",
     "output_type": "stream",
     "text": [
      "Jumlah transaksi x_train (227845, 29)\n",
      "Jumlah transaksi x_test (56962, 29)\n",
      "Jumlah transaksi y_train (227845,)\n",
      "Jumlah transaksi y_test (56962,)\n"
     ]
    }
   ],
   "source": [
    "# jumlah data transaksi sebelum di-resampling\n",
    "print('Jumlah transaksi x_train', x_train.shape)\n",
    "print('Jumlah transaksi x_test', x_test.shape)\n",
    "print('Jumlah transaksi y_train', y_train.shape)\n",
    "print('Jumlah transaksi y_test', y_test.shape)"
   ]
  },
  {
   "cell_type": "markdown",
   "metadata": {},
   "source": [
    "### __Fitting Model__"
   ]
  },
  {
   "cell_type": "code",
   "execution_count": 26,
   "metadata": {},
   "outputs": [
    {
     "name": "stderr",
     "output_type": "stream",
     "text": [
      "C:\\Users\\SONY Z\\AppData\\Local\\Programs\\Python\\Python38-32\\lib\\site-packages\\sklearn\\linear_model\\_logistic.py:938: ConvergenceWarning: lbfgs failed to converge (status=1):\n",
      "STOP: TOTAL NO. of ITERATIONS REACHED LIMIT.\n",
      "\n",
      "Increase the number of iterations (max_iter) or scale the data as shown in:\n",
      "    https://scikit-learn.org/stable/modules/preprocessing.html\n",
      "Please also refer to the documentation for alternative solver options:\n",
      "    https://scikit-learn.org/stable/modules/linear_model.html#logistic-regression\n",
      "  n_iter_i = _check_optimize_result(\n"
     ]
    },
    {
     "data": {
      "text/plain": [
       "LogisticRegression(C=1.0, class_weight=None, dual=False, fit_intercept=True,\n",
       "                   intercept_scaling=1, l1_ratio=None, max_iter=100,\n",
       "                   multi_class='auto', n_jobs=None, penalty='l2',\n",
       "                   random_state=None, solver='lbfgs', tol=0.0001, verbose=0,\n",
       "                   warm_start=False)"
      ]
     },
     "execution_count": 26,
     "metadata": {},
     "output_type": "execute_result"
    }
   ],
   "source": [
    "# Logistic Regression\n",
    "model_LR = LogisticRegression()\n",
    "model_LR.fit(x_train, y_train)"
   ]
  },
  {
   "cell_type": "code",
   "execution_count": 27,
   "metadata": {},
   "outputs": [],
   "source": [
    "y_pred = model_LR.predict(x_test)"
   ]
  },
  {
   "cell_type": "code",
   "execution_count": 28,
   "metadata": {},
   "outputs": [
    {
     "data": {
      "image/png": "[encoded data removed]",
      "text/plain": [
       "<Figure size 576x360 with 2 Axes>"
      ]
     },
     "metadata": {
      "needs_background": "light"
     },
     "output_type": "display_data"
    }
   ],
   "source": [
    "f, ax = plt.subplots(figsize=(8,5))\n",
    "sns.heatmap(confusion_matrix(y_test, y_pred), annot=True, fmt='.0f', ax=ax)\n",
    "plt.xlabel('y Prediksi')\n",
    "plt.ylabel('y Aktual')\n",
    "plt.show()"
   ]
  },
  {
   "cell_type": "code",
   "execution_count": 30,
   "metadata": {},
   "outputs": [
    {
     "name": "stdout",
     "output_type": "stream",
     "text": [
      "              precision    recall  f1-score   support\n",
      "\n",
      "           0       1.00      1.00      1.00     56861\n",
      "           1       0.88      0.63      0.74       101\n",
      "\n",
      "    accuracy                           1.00     56962\n",
      "   macro avg       0.94      0.82      0.87     56962\n",
      "weighted avg       1.00      1.00      1.00     56962\n",
      "\n"
     ]
    }
   ],
   "source": [
    "print(classification_report(y_test, y_pred))"
   ]
  },
  {
   "cell_type": "code",
   "execution_count": 32,
   "metadata": {},
   "outputs": [
    {
     "data": {
      "text/html": [
       "<div>\n",
       "<style scoped>\n",
       "    .dataframe tbody tr th:only-of-type {\n",
       "        vertical-align: middle;\n",
       "    }\n",
       "\n",
       "    .dataframe tbody tr th {\n",
       "        vertical-align: top;\n",
       "    }\n",
       "\n",
       "    .dataframe thead th {\n",
       "        text-align: right;\n",
       "    }\n",
       "</style>\n",
       "<table border=\"1\" class=\"dataframe\">\n",
       "  <thead>\n",
       "    <tr style=\"text-align: right;\">\n",
       "      <th></th>\n",
       "      <th>Score (%)</th>\n",
       "    </tr>\n",
       "  </thead>\n",
       "  <tbody>\n",
       "    <tr>\n",
       "      <th>accuracy</th>\n",
       "      <td>99.919244</td>\n",
       "    </tr>\n",
       "    <tr>\n",
       "      <th>recall</th>\n",
       "      <td>63.366337</td>\n",
       "    </tr>\n",
       "    <tr>\n",
       "      <th>precision</th>\n",
       "      <td>87.671233</td>\n",
       "    </tr>\n",
       "    <tr>\n",
       "      <th>roc_auc_score</th>\n",
       "      <td>81.675254</td>\n",
       "    </tr>\n",
       "    <tr>\n",
       "      <th>f1_score</th>\n",
       "      <td>73.563218</td>\n",
       "    </tr>\n",
       "  </tbody>\n",
       "</table>\n",
       "</div>"
      ],
      "text/plain": [
       "               Score (%)\n",
       "accuracy       99.919244\n",
       "recall         63.366337\n",
       "precision      87.671233\n",
       "roc_auc_score  81.675254\n",
       "f1_score       73.563218"
      ]
     },
     "execution_count": 32,
     "metadata": {},
     "output_type": "execute_result"
    }
   ],
   "source": [
    "pd.DataFrame(data = [accuracy_score(y_test, y_pred)*100, recall_score(y_test, y_pred)*100,\n",
    "                    precision_score(y_test, y_pred)*100, roc_auc_score(y_test, y_pred)*100,\n",
    "                     f1_score(y_test, y_pred)*100],\n",
    "             index = ['accuracy', 'recall', 'precision', 'roc_auc_score', 'f1_score'],\n",
    "             columns = ['Score (%)']\n",
    "            )"
   ]
  },
  {
   "cell_type": "code",
   "execution_count": 33,
   "metadata": {},
   "outputs": [
    {
     "data": {
      "text/html": [
       "<div>\n",
       "<style scoped>\n",
       "    .dataframe tbody tr th:only-of-type {\n",
       "        vertical-align: middle;\n",
       "    }\n",
       "\n",
       "    .dataframe tbody tr th {\n",
       "        vertical-align: top;\n",
       "    }\n",
       "\n",
       "    .dataframe thead th {\n",
       "        text-align: right;\n",
       "    }\n",
       "</style>\n",
       "<table border=\"1\" class=\"dataframe\">\n",
       "  <thead>\n",
       "    <tr style=\"text-align: right;\">\n",
       "      <th></th>\n",
       "      <th>Score (%)</th>\n",
       "    </tr>\n",
       "  </thead>\n",
       "  <tbody>\n",
       "    <tr>\n",
       "      <th>Model Score in Data Train</th>\n",
       "      <td>99.918804</td>\n",
       "    </tr>\n",
       "    <tr>\n",
       "      <th>Model Score in Data Test</th>\n",
       "      <td>99.919244</td>\n",
       "    </tr>\n",
       "  </tbody>\n",
       "</table>\n",
       "</div>"
      ],
      "text/plain": [
       "                           Score (%)\n",
       "Model Score in Data Train  99.918804\n",
       "Model Score in Data Test   99.919244"
      ]
     },
     "execution_count": 33,
     "metadata": {},
     "output_type": "execute_result"
    }
   ],
   "source": [
    "pd.DataFrame(data = [model_LR.score(x_train, y_train)*100,\n",
    "                     model_LR.score(x_test, y_test)*100],\n",
    "             index = ['Model Score in Data Train', 'Model Score in Data Test'],\n",
    "             columns = ['Score (%)']\n",
    "            )"
   ]
  },
  {
   "cell_type": "markdown",
   "metadata": {},
   "source": [
    "<hr>\n",
    "\n",
    "# Handling Imbalance Target\n",
    "## **A. Oversampling using ``SMOTE``**"
   ]
  },
  {
   "cell_type": "markdown",
   "metadata": {},
   "source": [
    "SMOTE Algorithm has oversampled the minority instances and ``made it equal to majority class``. Both categories have equal amount of records. More specifically, the minority class has been increased to the total number of majority class."
   ]
  },
  {
   "cell_type": "code",
   "execution_count": 36,
   "metadata": {},
   "outputs": [
    {
     "name": "stdout",
     "output_type": "stream",
     "text": [
      "Jumlah transaksi x_train sebelum Oversampling (227845, 29)\n",
      "Jumlah transaksi y_train sebelum Oversampling (227845,) \n",
      "\n",
      "Jumlah label '1' sebelum Oversampling 391\n",
      "Jumlah label '0' sebelum Oversampling 227454\n"
     ]
    }
   ],
   "source": [
    "print('Jumlah transaksi x_train sebelum Oversampling', x_train.shape)\n",
    "print('Jumlah transaksi y_train sebelum Oversampling', y_train.shape, '\\n')\n",
    "\n",
    "print(\"Jumlah label '1' sebelum Oversampling\", sum(y_train == 1))\n",
    "print(\"Jumlah label '0' sebelum Oversampling\", sum(y_train == 0))"
   ]
  },
  {
   "cell_type": "code",
   "execution_count": 37,
   "metadata": {},
   "outputs": [],
   "source": [
    "sm = SMOTE(random_state = 0)\n",
    "x_train_sm, y_train_sm = sm.fit_sample(x_train, y_train)"
   ]
  },
  {
   "cell_type": "code",
   "execution_count": 47,
   "metadata": {},
   "outputs": [
    {
     "name": "stdout",
     "output_type": "stream",
     "text": [
      "Jumlah transaksi x_train setelah Oversampling (454908, 29)\n",
      "Jumlah transaksi y_train setelah Oversampling (454908,) \n",
      "\n",
      "Jumlah label '1' setelah Oversampling 227454\n",
      "Jumlah label '0' setelah Oversampling 227454\n"
     ]
    }
   ],
   "source": [
    "print('Jumlah transaksi x_train setelah Oversampling', x_train_sm.shape)\n",
    "print('Jumlah transaksi y_train setelah Oversampling', y_train_sm.shape, '\\n')\n",
    "\n",
    "print(\"Jumlah label '1' setelah Oversampling\", sum(y_train_sm == 1))\n",
    "print(\"Jumlah label '0' setelah Oversampling\", sum(y_train_sm == 0))"
   ]
  },
  {
   "cell_type": "markdown",
   "metadata": {},
   "source": [
    "**Jumlah label '1' bertambah dari awalnya 391 menjadi sama dengan label 0 yaitu 227.454**"
   ]
  },
  {
   "cell_type": "markdown",
   "metadata": {},
   "source": [
    "### __Performa Model setelah Oversampling__"
   ]
  },
  {
   "cell_type": "code",
   "execution_count": 40,
   "metadata": {},
   "outputs": [],
   "source": [
    "# fitting model\n",
    "model_LR_sm = LogisticRegression()\n",
    "model_LR_sm.fit(x_train_sm, y_train_sm)\n",
    "\n",
    "#prediksi\n",
    "y_pred_sm = model_LR_sm.predict(x_test)"
   ]
  },
  {
   "cell_type": "code",
   "execution_count": 44,
   "metadata": {},
   "outputs": [
    {
     "data": {
      "image/png": "[encoded data removed]",
      "text/plain": [
       "<Figure size 576x360 with 2 Axes>"
      ]
     },
     "metadata": {
      "needs_background": "light"
     },
     "output_type": "display_data"
    }
   ],
   "source": [
    "f, ax = plt.subplots(figsize=(8,5))\n",
    "sns.heatmap(confusion_matrix(y_test, y_pred_sm), annot=True, fmt='.0f', ax=ax)\n",
    "plt.xlabel('y Prediksi')\n",
    "plt.ylabel('y Aktual')\n",
    "plt.show()"
   ]
  },
  {
   "cell_type": "code",
   "execution_count": 41,
   "metadata": {},
   "outputs": [
    {
     "name": "stdout",
     "output_type": "stream",
     "text": [
      "              precision    recall  f1-score   support\n",
      "\n",
      "           0       1.00      0.98      0.99     56861\n",
      "           1       0.06      0.94      0.12       101\n",
      "\n",
      "    accuracy                           0.98     56962\n",
      "   macro avg       0.53      0.96      0.55     56962\n",
      "weighted avg       1.00      0.98      0.99     56962\n",
      "\n"
     ]
    }
   ],
   "source": [
    "print(classification_report(y_test, y_pred_sm))"
   ]
  },
  {
   "cell_type": "code",
   "execution_count": 42,
   "metadata": {},
   "outputs": [
    {
     "data": {
      "text/html": [
       "<div>\n",
       "<style scoped>\n",
       "    .dataframe tbody tr th:only-of-type {\n",
       "        vertical-align: middle;\n",
       "    }\n",
       "\n",
       "    .dataframe tbody tr th {\n",
       "        vertical-align: top;\n",
       "    }\n",
       "\n",
       "    .dataframe thead th {\n",
       "        text-align: right;\n",
       "    }\n",
       "</style>\n",
       "<table border=\"1\" class=\"dataframe\">\n",
       "  <thead>\n",
       "    <tr style=\"text-align: right;\">\n",
       "      <th></th>\n",
       "      <th>Score (%)</th>\n",
       "    </tr>\n",
       "  </thead>\n",
       "  <tbody>\n",
       "    <tr>\n",
       "      <th>accuracy</th>\n",
       "      <td>97.558021</td>\n",
       "    </tr>\n",
       "    <tr>\n",
       "      <th>recall</th>\n",
       "      <td>94.059406</td>\n",
       "    </tr>\n",
       "    <tr>\n",
       "      <th>precision</th>\n",
       "      <td>6.418919</td>\n",
       "    </tr>\n",
       "    <tr>\n",
       "      <th>roc_auc_score</th>\n",
       "      <td>95.811821</td>\n",
       "    </tr>\n",
       "    <tr>\n",
       "      <th>f1_score</th>\n",
       "      <td>12.017710</td>\n",
       "    </tr>\n",
       "  </tbody>\n",
       "</table>\n",
       "</div>"
      ],
      "text/plain": [
       "               Score (%)\n",
       "accuracy       97.558021\n",
       "recall         94.059406\n",
       "precision       6.418919\n",
       "roc_auc_score  95.811821\n",
       "f1_score       12.017710"
      ]
     },
     "execution_count": 42,
     "metadata": {},
     "output_type": "execute_result"
    }
   ],
   "source": [
    "pd.DataFrame(data = [accuracy_score(y_test, y_pred_sm)*100, recall_score(y_test, y_pred_sm)*100,\n",
    "                    precision_score(y_test, y_pred_sm)*100, roc_auc_score(y_test, y_pred_sm)*100,\n",
    "                     f1_score(y_test, y_pred_sm)*100],\n",
    "             index = ['accuracy', 'recall', 'precision', 'roc_auc_score', 'f1_score'],\n",
    "             columns = ['Score (%)']\n",
    "            )"
   ]
  },
  {
   "cell_type": "code",
   "execution_count": 43,
   "metadata": {},
   "outputs": [
    {
     "data": {
      "text/html": [
       "<div>\n",
       "<style scoped>\n",
       "    .dataframe tbody tr th:only-of-type {\n",
       "        vertical-align: middle;\n",
       "    }\n",
       "\n",
       "    .dataframe tbody tr th {\n",
       "        vertical-align: top;\n",
       "    }\n",
       "\n",
       "    .dataframe thead th {\n",
       "        text-align: right;\n",
       "    }\n",
       "</style>\n",
       "<table border=\"1\" class=\"dataframe\">\n",
       "  <thead>\n",
       "    <tr style=\"text-align: right;\">\n",
       "      <th></th>\n",
       "      <th>Score (%)</th>\n",
       "    </tr>\n",
       "  </thead>\n",
       "  <tbody>\n",
       "    <tr>\n",
       "      <th>Model Score in Data Train</th>\n",
       "      <td>97.550528</td>\n",
       "    </tr>\n",
       "    <tr>\n",
       "      <th>Model Score in Data Test</th>\n",
       "      <td>97.558021</td>\n",
       "    </tr>\n",
       "  </tbody>\n",
       "</table>\n",
       "</div>"
      ],
      "text/plain": [
       "                           Score (%)\n",
       "Model Score in Data Train  97.550528\n",
       "Model Score in Data Test   97.558021"
      ]
     },
     "execution_count": 43,
     "metadata": {},
     "output_type": "execute_result"
    }
   ],
   "source": [
    "pd.DataFrame(data = [model_LR_sm.score(x_train, y_train)*100,\n",
    "                     model_LR_sm.score(x_test, y_test)*100],\n",
    "             index = ['Model Score in Data Train', 'Model Score in Data Test'],\n",
    "             columns = ['Score (%)']\n",
    "            )"
   ]
  },
  {
   "cell_type": "markdown",
   "metadata": {},
   "source": [
    "## **B. Undersampling using ``NearMiss``**\n",
    "\n",
    "NearMiss is an under-sampling technique. It aims to balance class distribution by randomly eliminating majority class examples. When instances of two different classes are very close to each other, we remove the instances of the majority class to increase the spaces between the two classes. This helps in the classification process."
   ]
  },
  {
   "cell_type": "markdown",
   "metadata": {},
   "source": [
    "The NearMiss Algorithm has undersampled the majority instances and made it equal to majority class. Here, the majority class has been reduced to the total number of minority class, so that both classes will have equal number of records."
   ]
  },
  {
   "cell_type": "code",
   "execution_count": 45,
   "metadata": {},
   "outputs": [
    {
     "name": "stdout",
     "output_type": "stream",
     "text": [
      "Jumlah transaksi x_train sebelum Undersampling (227845, 29)\n",
      "Jumlah transaksi y_train sebelum Undersampling (227845,) \n",
      "\n",
      "Jumlah label '1' sebelum Undersampling 391\n",
      "Jumlah label '0' sebelum Undersampling 227454\n"
     ]
    }
   ],
   "source": [
    "print('Jumlah transaksi x_train sebelum Undersampling', x_train.shape)\n",
    "print('Jumlah transaksi y_train sebelum Undersampling', y_train.shape, '\\n')\n",
    "\n",
    "print(\"Jumlah label '1' sebelum Undersampling\", sum(y_train == 1))\n",
    "print(\"Jumlah label '0' sebelum Undersampling\", sum(y_train == 0))"
   ]
  },
  {
   "cell_type": "code",
   "execution_count": 46,
   "metadata": {},
   "outputs": [],
   "source": [
    "nm = NearMiss()\n",
    "x_train_nm, y_train_nm = nm.fit_sample(x_train, y_train)"
   ]
  },
  {
   "cell_type": "code",
   "execution_count": 48,
   "metadata": {},
   "outputs": [
    {
     "name": "stdout",
     "output_type": "stream",
     "text": [
      "Jumlah transaksi x_train setelah Undersampling (782, 29)\n",
      "Jumlah transaksi y_train setelah Undersampling (782,) \n",
      "\n",
      "Jumlah label '1' setelah Undersampling 391\n",
      "Jumlah label '0' setelah Undersampling 391\n"
     ]
    }
   ],
   "source": [
    "print('Jumlah transaksi x_train setelah Undersampling', x_train_nm.shape)\n",
    "print('Jumlah transaksi y_train setelah Undersampling', y_train_nm.shape, '\\n')\n",
    "\n",
    "print(\"Jumlah label '1' setelah Undersampling\", sum(y_train_nm == 1))\n",
    "print(\"Jumlah label '0' setelah Undersampling\", sum(y_train_nm == 0))"
   ]
  },
  {
   "cell_type": "markdown",
   "metadata": {},
   "source": [
    "**Jumlah label '0' bertambah dari awalnya 227454 menjadi sama dengan label 1 yaitu 391**"
   ]
  },
  {
   "cell_type": "markdown",
   "metadata": {},
   "source": [
    "### __Performa Model setelah Undersampling__"
   ]
  },
  {
   "cell_type": "code",
   "execution_count": 49,
   "metadata": {},
   "outputs": [],
   "source": [
    "# fitting model\n",
    "model_LR_nm = LogisticRegression()\n",
    "model_LR_nm.fit(x_train_nm, y_train_nm)\n",
    "\n",
    "#prediksi\n",
    "y_pred_nm = model_LR_nm.predict(x_test)"
   ]
  },
  {
   "cell_type": "code",
   "execution_count": 51,
   "metadata": {},
   "outputs": [
    {
     "data": {
      "image/png": "[encoded data removed]",
      "text/plain": [
       "<Figure size 576x360 with 2 Axes>"
      ]
     },
     "metadata": {
      "needs_background": "light"
     },
     "output_type": "display_data"
    }
   ],
   "source": [
    "f, ax = plt.subplots(figsize=(8,5))\n",
    "sns.heatmap(confusion_matrix(y_test, y_pred_nm), annot=True, fmt='.0f', ax=ax)\n",
    "plt.xlabel('y Prediksi')\n",
    "plt.ylabel('y Aktual')\n",
    "plt.show()"
   ]
  },
  {
   "cell_type": "code",
   "execution_count": 52,
   "metadata": {},
   "outputs": [
    {
     "name": "stdout",
     "output_type": "stream",
     "text": [
      "              precision    recall  f1-score   support\n",
      "\n",
      "           0       1.00      0.66      0.80     56861\n",
      "           1       0.01      0.96      0.01       101\n",
      "\n",
      "    accuracy                           0.66     56962\n",
      "   macro avg       0.50      0.81      0.40     56962\n",
      "weighted avg       1.00      0.66      0.80     56962\n",
      "\n"
     ]
    }
   ],
   "source": [
    "print(classification_report(y_test, y_pred_nm))"
   ]
  },
  {
   "cell_type": "code",
   "execution_count": 53,
   "metadata": {},
   "outputs": [
    {
     "data": {
      "text/html": [
       "<div>\n",
       "<style scoped>\n",
       "    .dataframe tbody tr th:only-of-type {\n",
       "        vertical-align: middle;\n",
       "    }\n",
       "\n",
       "    .dataframe tbody tr th {\n",
       "        vertical-align: top;\n",
       "    }\n",
       "\n",
       "    .dataframe thead th {\n",
       "        text-align: right;\n",
       "    }\n",
       "</style>\n",
       "<table border=\"1\" class=\"dataframe\">\n",
       "  <thead>\n",
       "    <tr style=\"text-align: right;\">\n",
       "      <th></th>\n",
       "      <th>Score (%)</th>\n",
       "    </tr>\n",
       "  </thead>\n",
       "  <tbody>\n",
       "    <tr>\n",
       "      <th>accuracy</th>\n",
       "      <td>66.423230</td>\n",
       "    </tr>\n",
       "    <tr>\n",
       "      <th>recall</th>\n",
       "      <td>96.039604</td>\n",
       "    </tr>\n",
       "    <tr>\n",
       "      <th>precision</th>\n",
       "      <td>0.504709</td>\n",
       "    </tr>\n",
       "    <tr>\n",
       "      <th>roc_auc_score</th>\n",
       "      <td>81.205114</td>\n",
       "    </tr>\n",
       "    <tr>\n",
       "      <th>f1_score</th>\n",
       "      <td>1.004141</td>\n",
       "    </tr>\n",
       "  </tbody>\n",
       "</table>\n",
       "</div>"
      ],
      "text/plain": [
       "               Score (%)\n",
       "accuracy       66.423230\n",
       "recall         96.039604\n",
       "precision       0.504709\n",
       "roc_auc_score  81.205114\n",
       "f1_score        1.004141"
      ]
     },
     "execution_count": 53,
     "metadata": {},
     "output_type": "execute_result"
    }
   ],
   "source": [
    "pd.DataFrame(data = [accuracy_score(y_test, y_pred_nm)*100, recall_score(y_test, y_pred_nm)*100,\n",
    "                    precision_score(y_test, y_pred_nm)*100, roc_auc_score(y_test, y_pred_nm)*100,\n",
    "                     f1_score(y_test, y_pred_nm)*100],\n",
    "             index = ['accuracy', 'recall', 'precision', 'roc_auc_score', 'f1_score'],\n",
    "             columns = ['Score (%)']\n",
    "            )"
   ]
  },
  {
   "cell_type": "code",
   "execution_count": 54,
   "metadata": {},
   "outputs": [
    {
     "data": {
      "text/html": [
       "<div>\n",
       "<style scoped>\n",
       "    .dataframe tbody tr th:only-of-type {\n",
       "        vertical-align: middle;\n",
       "    }\n",
       "\n",
       "    .dataframe tbody tr th {\n",
       "        vertical-align: top;\n",
       "    }\n",
       "\n",
       "    .dataframe thead th {\n",
       "        text-align: right;\n",
       "    }\n",
       "</style>\n",
       "<table border=\"1\" class=\"dataframe\">\n",
       "  <thead>\n",
       "    <tr style=\"text-align: right;\">\n",
       "      <th></th>\n",
       "      <th>Score (%)</th>\n",
       "    </tr>\n",
       "  </thead>\n",
       "  <tbody>\n",
       "    <tr>\n",
       "      <th>Model Score in Data Train</th>\n",
       "      <td>66.394698</td>\n",
       "    </tr>\n",
       "    <tr>\n",
       "      <th>Model Score in Data Test</th>\n",
       "      <td>66.423230</td>\n",
       "    </tr>\n",
       "  </tbody>\n",
       "</table>\n",
       "</div>"
      ],
      "text/plain": [
       "                           Score (%)\n",
       "Model Score in Data Train  66.394698\n",
       "Model Score in Data Test   66.423230"
      ]
     },
     "execution_count": 54,
     "metadata": {},
     "output_type": "execute_result"
    }
   ],
   "source": [
    "pd.DataFrame(data = [model_LR_nm.score(x_train, y_train)*100,\n",
    "                     model_LR_nm.score(x_test, y_test)*100],\n",
    "             index = ['Model Score in Data Train', 'Model Score in Data Test'],\n",
    "             columns = ['Score (%)']\n",
    "            )"
   ]
  },
  {
   "cell_type": "markdown",
   "metadata": {},
   "source": [
    "### __Conclusion__:\n",
    "**``SMOTE is better to use in this case.``**\n",
    "\n",
    "<hr>"
   ]
  },
  {
   "cell_type": "markdown",
   "metadata": {},
   "source": [
    "## **Take Home/Class Exercise**\n",
    "\n",
    "#### **1. Use these ML model to predict ``Credit Fraud`` in this dataset. Compare ``evaluation metric`` before & after re-sampling target:**\n",
    "- Decision Tree Classifier\n",
    "- Random Forest Classifier\n",
    "- KNN Classifier\n",
    "\n",
    "What's the best model based on __Precision & Recall Metric__?\n",
    "\n",
    "####  **2. Apply hyperparameter tuning + after re-sampling target (SMOTE):**\n",
    "- ``Kel A``: Logistic Regression \n",
    "- ``Kel B``: Decision Tree Classifier\n",
    "- ``Kel C``: Random Forest Classifier\n",
    "\n",
    "What's the best model based on __Precision & Recall Metric__?\n"
   ]
  },
  {
   "cell_type": "markdown",
   "metadata": {},
   "source": [
    "<hr>\n",
    "\n",
    "# **Reference**:\n",
    "- Aditya Patil, \"Dealing with Imbalance Data\", https://medium.com/@patiladitya81295/dealing-with-imbalance-data-1bacc7d68dff\n",
    "- Roberta Pollastro, \"How to handle Class Imbalance Problem\", https://medium.com/quantyca/how-to-handle-class-imbalance-problem-9ee3062f2499\n",
    "- Baptiste Rocca, \"Handling imbalanced datasets in machine learning\", https://towardsdatascience.com/handling-imbalanced-datasets-in-machine-learning-7a0e84220f28\n",
    "- Geeksforgeeks, \"ML | Handling Imbalanced Data with SMOTE and Near Miss Algorithm in Python\", https://www.geeksforgeeks.org/ml-handling-imbalanced-data-with-smote-and-near-miss-algorithm-in-python/\n",
    "- Rahul Agarwal, \"The 5 most useful Techniques to Handle Imbalanced datasets\", https://towardsdatascience.com/the-5-most-useful-techniques-to-handle-imbalanced-datasets-6cdba096d55a\n",
    "- Dataset source: https://www.kaggle.com/mlg-ulb/creditcardfraud"
   ]
  }
 ],
 "metadata": {
  "kernelspec": {
   "display_name": "Python 3.8.1 32-bit",
   "language": "python",
   "name": "python38132bitf9f79e71b62e4503b25567c1d3914456"
  },
  "language_info": {
   "codemirror_mode": {
    "name": "ipython",
    "version": 3
   },
   "file_extension": ".py",
   "mimetype": "text/x-python",
   "name": "python",
   "nbconvert_exporter": "python",
   "pygments_lexer": "ipython3",
   "version": "3.8.1"
  }
 },
 "nbformat": 4,
 "nbformat_minor": 4
}
